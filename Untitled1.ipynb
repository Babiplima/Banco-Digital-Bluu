{
  "nbformat": 4,
  "nbformat_minor": 0,
  "metadata": {
    "colab": {
      "name": "Untitled1.ipynb",
      "provenance": [],
      "authorship_tag": "ABX9TyPaGCrTRWzJ1AKEO3ndHcxK",
      "include_colab_link": true
    },
    "kernelspec": {
      "name": "python3",
      "display_name": "Python 3"
    }
  },
  "cells": [
    {
      "cell_type": "markdown",
      "metadata": {
        "id": "view-in-github",
        "colab_type": "text"
      },
      "source": [
        "<a href=\"https://colab.research.google.com/github/Babiplima/Banco-Digital-Bluu/blob/main/Untitled1.ipynb\" target=\"_parent\"><img src=\"https://colab.research.google.com/assets/colab-badge.svg\" alt=\"Open In Colab\"/></a>"
      ]
    },
    {
      "cell_type": "code",
      "metadata": {
        "colab": {
          "base_uri": "https://localhost:8080/",
          "height": 129
        },
        "id": "x2GkeiKgm5R1",
        "outputId": "f1c7553e-96b4-44fe-890e-659676b5137b"
      },
      "source": [
        "if b==c:\r\n",
        "  print('b é igual a c')\r\n",
        "  elif b > c:\r\n",
        "    print('b é maior que c')\r\n",
        "    elif b < c:\r\n",
        "      print('b é menor que c')\r\n",
        "      else:\r\n",
        "        print('b é igual a c')"
      ],
      "execution_count": 2,
      "outputs": [
        {
          "output_type": "error",
          "ename": "SyntaxError",
          "evalue": "ignored",
          "traceback": [
            "\u001b[0;36m  File \u001b[0;32m\"<ipython-input-2-4e163d36fb54>\"\u001b[0;36m, line \u001b[0;32m3\u001b[0m\n\u001b[0;31m    elif b > c:\u001b[0m\n\u001b[0m       ^\u001b[0m\n\u001b[0;31mSyntaxError\u001b[0m\u001b[0;31m:\u001b[0m invalid syntax\n"
          ]
        }
      ]
    },
    {
      "cell_type": "code",
      "metadata": {
        "colab": {
          "base_uri": "https://localhost:8080/",
          "height": 129
        },
        "id": "jrZCZmz3q2aD",
        "outputId": "5a7b6bb5-64d1-49d2-f416-28e32302d444"
      },
      "source": [
        "def calcula_imc():\r\n",
        "  nome = input('Qual o seu nome?')\r\n",
        "  peso =  input('Qual o seu peso em quilos (utilize ponto, ex: 52.4)')\r\n",
        "  altura = input('Qual a sua altura em metros (utilize ponto, ex: 1.74)')\r\n",
        "  imc = float(peso)/float(altura)**2\r\n",
        "  imc_arredondado = round(imc,2)\r\n",
        "  if imc_arredondado > 25:\r\n",
        "  print(f'Olá {nome}, seu IMC é de {imc_arredondado}. Prepare-se para novos treinos')\r\n",
        "  else:\r\n",
        "    print(f\"Olá {nome}, seu IMC é de {imc_arredondado}. Parabéns!\")"
      ],
      "execution_count": 7,
      "outputs": [
        {
          "output_type": "error",
          "ename": "IndentationError",
          "evalue": "ignored",
          "traceback": [
            "\u001b[0;36m  File \u001b[0;32m\"<ipython-input-7-1b5e0767d8e8>\"\u001b[0;36m, line \u001b[0;32m8\u001b[0m\n\u001b[0;31m    print(f'Olá {nome}, seu IMC é de {imc_arredondado}. Prepare-se para novos treinos')\u001b[0m\n\u001b[0m        ^\u001b[0m\n\u001b[0;31mIndentationError\u001b[0m\u001b[0;31m:\u001b[0m expected an indented block\n"
          ]
        }
      ]
    },
    {
      "cell_type": "markdown",
      "metadata": {
        "id": "0ulGOMUGvCP2"
      },
      "source": [
        "Lista"
      ]
    },
    {
      "cell_type": "code",
      "metadata": {
        "id": "Q2meBQDvwLdH"
      },
      "source": [
        ""
      ],
      "execution_count": null,
      "outputs": []
    },
    {
      "cell_type": "code",
      "metadata": {
        "colab": {
          "base_uri": "https://localhost:8080/",
          "height": 214
        },
        "id": "g5qDr_L3vE6_",
        "outputId": "cecf4534-d441-4eee-b0d1-bcc3e55e3875"
      },
      "source": [
        "minha_lista.append(['bule',89])\r\n",
        "minha_lista\r\n",
        "[2,7, 'circo', 10,11,'Burro', 'Nome', \"Maquiagem\", ['bule', 89]]\r\n",
        "type(minha_lista[-1])"
      ],
      "execution_count": 9,
      "outputs": [
        {
          "output_type": "error",
          "ename": "NameError",
          "evalue": "ignored",
          "traceback": [
            "\u001b[0;31m---------------------------------------------------------------------------\u001b[0m",
            "\u001b[0;31mNameError\u001b[0m                                 Traceback (most recent call last)",
            "\u001b[0;32m<ipython-input-9-b5226ad5dfa8>\u001b[0m in \u001b[0;36m<module>\u001b[0;34m()\u001b[0m\n\u001b[0;32m----> 1\u001b[0;31m \u001b[0mminha_lista\u001b[0m\u001b[0;34m.\u001b[0m\u001b[0mappend\u001b[0m\u001b[0;34m(\u001b[0m\u001b[0;34m[\u001b[0m\u001b[0;34m'bule'\u001b[0m\u001b[0;34m,\u001b[0m\u001b[0;36m89\u001b[0m\u001b[0;34m]\u001b[0m\u001b[0;34m)\u001b[0m\u001b[0;34m\u001b[0m\u001b[0;34m\u001b[0m\u001b[0m\n\u001b[0m\u001b[1;32m      2\u001b[0m \u001b[0mminha_lista\u001b[0m\u001b[0;34m\u001b[0m\u001b[0;34m\u001b[0m\u001b[0m\n\u001b[1;32m      3\u001b[0m \u001b[0;34m[\u001b[0m\u001b[0;36m2\u001b[0m\u001b[0;34m,\u001b[0m\u001b[0;36m7\u001b[0m\u001b[0;34m,\u001b[0m \u001b[0;34m'circo'\u001b[0m\u001b[0;34m,\u001b[0m \u001b[0;36m10\u001b[0m\u001b[0;34m,\u001b[0m\u001b[0;36m11\u001b[0m\u001b[0;34m,\u001b[0m\u001b[0;34m'Burro'\u001b[0m\u001b[0;34m,\u001b[0m \u001b[0;34m'Nome'\u001b[0m\u001b[0;34m,\u001b[0m \u001b[0;34m\"Maquiagem\"\u001b[0m\u001b[0;34m,\u001b[0m \u001b[0;34m[\u001b[0m\u001b[0;34m'bule'\u001b[0m\u001b[0;34m,\u001b[0m \u001b[0;36m89\u001b[0m\u001b[0;34m]\u001b[0m\u001b[0;34m]\u001b[0m\u001b[0;34m\u001b[0m\u001b[0;34m\u001b[0m\u001b[0m\n\u001b[1;32m      4\u001b[0m \u001b[0mtype\u001b[0m\u001b[0;34m(\u001b[0m\u001b[0mminha_lista\u001b[0m\u001b[0;34m[\u001b[0m\u001b[0;34m-\u001b[0m\u001b[0;36m1\u001b[0m\u001b[0;34m]\u001b[0m\u001b[0;34m)\u001b[0m\u001b[0;34m\u001b[0m\u001b[0;34m\u001b[0m\u001b[0m\n",
            "\u001b[0;31mNameError\u001b[0m: name 'minha_lista' is not defined"
          ]
        }
      ]
    },
    {
      "cell_type": "code",
      "metadata": {
        "id": "hAtnnsGryQkC"
      },
      "source": [
        "academia = [['Ulrich', 'M', 80, 1.92],['Claudia','F',62,1.56],\r\n",
        "               ['Mikkel','M',67,1.56],['Jonas','M',52,1.56],\r\n",
        "               ['Charlotte','F',52,1.56],['Martha','F',76,1.98]]"
      ],
      "execution_count": null,
      "outputs": []
    },
    {
      "cell_type": "code",
      "metadata": {
        "colab": {
          "base_uri": "https://localhost:8080/",
          "height": 163
        },
        "id": "Suzkot3xyn6z",
        "outputId": "c4bf0000-e256-4aa7-eb73-da10eda0d0e3"
      },
      "source": [
        "academia[2][2]"
      ],
      "execution_count": 11,
      "outputs": [
        {
          "output_type": "error",
          "ename": "NameError",
          "evalue": "ignored",
          "traceback": [
            "\u001b[0;31m---------------------------------------------------------------------------\u001b[0m",
            "\u001b[0;31mNameError\u001b[0m                                 Traceback (most recent call last)",
            "\u001b[0;32m<ipython-input-11-d7cd997e474d>\u001b[0m in \u001b[0;36m<module>\u001b[0;34m()\u001b[0m\n\u001b[0;32m----> 1\u001b[0;31m \u001b[0macademia\u001b[0m\u001b[0;34m[\u001b[0m\u001b[0;36m2\u001b[0m\u001b[0;34m]\u001b[0m\u001b[0;34m[\u001b[0m\u001b[0;36m2\u001b[0m\u001b[0;34m]\u001b[0m\u001b[0;34m\u001b[0m\u001b[0;34m\u001b[0m\u001b[0m\n\u001b[0m",
            "\u001b[0;31mNameError\u001b[0m: name 'academia' is not defined"
          ]
        }
      ]
    }
  ]
}